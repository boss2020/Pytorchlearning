{
 "cells": [
  {
   "cell_type": "code",
   "execution_count": 3,
   "metadata": {},
   "outputs": [
    {
     "name": "stdout",
     "output_type": "stream",
     "text": [
      "torch version 1.3.1\n",
      "cuda is available True\n"
     ]
    }
   ],
   "source": [
    "from  __future__  import  print_function\n",
    "import  torch\n",
    "print(\"torch version {}\".format(torch.__version__))\n",
    "print(\"cuda is available {}\".format(torch.cuda.is_available()))"
   ]
  },
  {
   "cell_type": "code",
   "execution_count": 4,
   "metadata": {},
   "outputs": [
    {
     "name": "stdout",
     "output_type": "stream",
     "text": [
      "tensor([[2.5124e-18, 1.9421e+31, 2.7491e+20],\n",
      "        [6.1949e-04, 7.1856e+22, 4.3605e+27],\n",
      "        [2.3329e-18, 1.9284e+31, 3.2314e-18],\n",
      "        [2.6991e-06, 1.6806e-04, 5.4425e+22],\n",
      "        [3.3274e+21, 8.4944e+20, 5.4126e+22]])\n"
     ]
    }
   ],
   "source": [
    "x = torch.empty(5,3)\n",
    "print(x)"
   ]
  },
  {
   "cell_type": "code",
   "execution_count": 5,
   "metadata": {},
   "outputs": [
    {
     "name": "stdout",
     "output_type": "stream",
     "text": [
      "tensor([[0.3235, 0.4991, 0.7837],\n",
      "        [0.8626, 0.2673, 0.3167],\n",
      "        [0.6688, 0.1018, 0.4429],\n",
      "        [0.2786, 0.9495, 0.2139],\n",
      "        [0.5311, 0.5326, 0.8354]])\n"
     ]
    }
   ],
   "source": [
    "x = torch.rand(5,3)\n",
    "print(x)"
   ]
  },
  {
   "cell_type": "code",
   "execution_count": 6,
   "metadata": {},
   "outputs": [
    {
     "name": "stdout",
     "output_type": "stream",
     "text": [
      "tensor([[0, 0, 0],\n",
      "        [0, 0, 0],\n",
      "        [0, 0, 0],\n",
      "        [0, 0, 0],\n",
      "        [0, 0, 0]])\n"
     ]
    }
   ],
   "source": [
    "x = torch.zeros(5,3,dtype=torch.long)\n",
    "print(x)"
   ]
  },
  {
   "cell_type": "code",
   "execution_count": 7,
   "metadata": {},
   "outputs": [
    {
     "name": "stdout",
     "output_type": "stream",
     "text": [
      "tensor([5.5000, 3.0000])\n"
     ]
    }
   ],
   "source": [
    "x = torch.tensor([5.5,3])\n",
    "print(x)"
   ]
  },
  {
   "cell_type": "code",
   "execution_count": 8,
   "metadata": {},
   "outputs": [
    {
     "name": "stdout",
     "output_type": "stream",
     "text": [
      "tensor([[1., 1., 1.],\n",
      "        [1., 1., 1.],\n",
      "        [1., 1., 1.],\n",
      "        [1., 1., 1.],\n",
      "        [1., 1., 1.]], dtype=torch.float64)\n",
      "tensor([[ 2.6091,  0.2242,  0.3536],\n",
      "        [ 0.9503, -1.6211, -0.3935],\n",
      "        [ 0.4379, -0.8636, -1.2143],\n",
      "        [ 0.3725, -0.4807,  0.4987],\n",
      "        [ 1.8902,  0.1961,  0.4996]])\n"
     ]
    }
   ],
   "source": [
    "x = x.new_ones(5,3,dtype=torch.double)\n",
    "print(x)\n",
    "\n",
    "x = torch.randn_like(x,dtype=torch.float)\n",
    "print(x)"
   ]
  },
  {
   "cell_type": "code",
   "execution_count": 9,
   "metadata": {},
   "outputs": [
    {
     "name": "stdout",
     "output_type": "stream",
     "text": [
      "torch.Size([5, 3])\n"
     ]
    }
   ],
   "source": [
    "print(x.size())"
   ]
  },
  {
   "cell_type": "code",
   "execution_count": 11,
   "metadata": {},
   "outputs": [
    {
     "name": "stdout",
     "output_type": "stream",
     "text": [
      "x = ***\n",
      "tensor([[ 2.6091,  0.2242,  0.3536],\n",
      "        [ 0.9503, -1.6211, -0.3935],\n",
      "        [ 0.4379, -0.8636, -1.2143],\n",
      "        [ 0.3725, -0.4807,  0.4987],\n",
      "        [ 1.8902,  0.1961,  0.4996]])\n",
      "y = ***\n",
      "tensor([[0.7092, 0.7137, 0.0829],\n",
      "        [0.7914, 0.5126, 0.1084],\n",
      "        [0.0584, 0.6283, 0.3802],\n",
      "        [0.0878, 0.8101, 0.6152],\n",
      "        [0.9300, 0.4623, 0.1249]])\n",
      "x+y = ***\n",
      "tensor([[ 3.3183,  0.9379,  0.4365],\n",
      "        [ 1.7417, -1.1085, -0.2851],\n",
      "        [ 0.4962, -0.2354, -0.8341],\n",
      "        [ 0.4602,  0.3294,  1.1139],\n",
      "        [ 2.8201,  0.6584,  0.6244]])\n",
      "tensor([[ 3.3183,  0.9379,  0.4365],\n",
      "        [ 1.7417, -1.1085, -0.2851],\n",
      "        [ 0.4962, -0.2354, -0.8341],\n",
      "        [ 0.4602,  0.3294,  1.1139],\n",
      "        [ 2.8201,  0.6584,  0.6244]])\n"
     ]
    }
   ],
   "source": [
    "y = torch.rand(5,3)\n",
    "print('x = ***')\n",
    "print(x)\n",
    "print('y = ***')\n",
    "print(y)\n",
    "print('x+y = ***')\n",
    "print(x+y)\n",
    "print(torch.add(x,y))"
   ]
  },
  {
   "cell_type": "code",
   "execution_count": 12,
   "metadata": {},
   "outputs": [
    {
     "name": "stdout",
     "output_type": "stream",
     "text": [
      "tensor([[ 3.3183,  0.9379,  0.4365],\n",
      "        [ 1.7417, -1.1085, -0.2851],\n",
      "        [ 0.4962, -0.2354, -0.8341],\n",
      "        [ 0.4602,  0.3294,  1.1139],\n",
      "        [ 2.8201,  0.6584,  0.6244]])\n"
     ]
    }
   ],
   "source": [
    "result = torch.empty(5,3)\n",
    "torch.add(x,y,out=result)\n",
    "print(result)\n",
    "#torch.add(x,y,out=result)中为将x与y两个数组相加\n",
    "#out输出的结果为result"
   ]
  },
  {
   "cell_type": "code",
   "execution_count": 13,
   "metadata": {},
   "outputs": [
    {
     "name": "stdout",
     "output_type": "stream",
     "text": [
      "tensor([[ 3.3183,  0.9379,  0.4365],\n",
      "        [ 1.7417, -1.1085, -0.2851],\n",
      "        [ 0.4962, -0.2354, -0.8341],\n",
      "        [ 0.4602,  0.3294,  1.1139],\n",
      "        [ 2.8201,  0.6584,  0.6244]])\n"
     ]
    }
   ],
   "source": [
    "y.add_(x)\n",
    "print(y)"
   ]
  },
  {
   "cell_type": "code",
   "execution_count": 16,
   "metadata": {},
   "outputs": [
    {
     "name": "stdout",
     "output_type": "stream",
     "text": [
      "x = ***\n",
      "tensor([[ 2.6091,  0.2242,  0.3536],\n",
      "        [ 0.9503, -1.6211, -0.3935],\n",
      "        [ 0.4379, -0.8636, -1.2143],\n",
      "        [ 0.3725, -0.4807,  0.4987],\n",
      "        [ 1.8902,  0.1961,  0.4996]])\n",
      "x[:,1] = ***\n",
      "tensor([ 0.2242, -1.6211, -0.8636, -0.4807,  0.1961])\n"
     ]
    }
   ],
   "source": [
    "print('x = ***')\n",
    "print(x)\n",
    "print('x[:,1] = ***')\n",
    "print(x[:,1])"
   ]
  },
  {
   "cell_type": "code",
   "execution_count": 17,
   "metadata": {},
   "outputs": [
    {
     "name": "stdout",
     "output_type": "stream",
     "text": [
      "tensor([1., 1., 1., 1., 1.])\n"
     ]
    }
   ],
   "source": [
    "a = torch.ones(5)\n",
    "print(a)"
   ]
  },
  {
   "cell_type": "code",
   "execution_count": 18,
   "metadata": {},
   "outputs": [
    {
     "name": "stdout",
     "output_type": "stream",
     "text": [
      "[1. 1. 1. 1. 1.]\n"
     ]
    }
   ],
   "source": [
    "b = a.numpy()\n",
    "print(b)"
   ]
  },
  {
   "cell_type": "code",
   "execution_count": 19,
   "metadata": {},
   "outputs": [
    {
     "name": "stdout",
     "output_type": "stream",
     "text": [
      "[2. 2. 2. 2. 2.]\n",
      "tensor([2., 2., 2., 2., 2.], dtype=torch.float64)\n"
     ]
    }
   ],
   "source": [
    "import  numpy  as  np\n",
    "a = np.ones(5)\n",
    "b = torch.from_numpy(a)\n",
    "np.add(a,1,out=a)\n",
    "print(a)\n",
    "print(b)"
   ]
  },
  {
   "cell_type": "code",
   "execution_count": 21,
   "metadata": {},
   "outputs": [
    {
     "name": "stdout",
     "output_type": "stream",
     "text": [
      "tensor([[ 3.6091,  1.2242,  1.3536],\n",
      "        [ 1.9503, -0.6211,  0.6065],\n",
      "        [ 1.4379,  0.1364, -0.2143],\n",
      "        [ 1.3725,  0.5193,  1.4987],\n",
      "        [ 2.8902,  1.1961,  1.4996]], device='cuda:0')\n",
      "tensor([[ 3.6091,  1.2242,  1.3536],\n",
      "        [ 1.9503, -0.6211,  0.6065],\n",
      "        [ 1.4379,  0.1364, -0.2143],\n",
      "        [ 1.3725,  0.5193,  1.4987],\n",
      "        [ 2.8902,  1.1961,  1.4996]], dtype=torch.float64)\n"
     ]
    }
   ],
   "source": [
    "#if  CUDA  is  available\n",
    "#We will use \"torch.device\" to move tensors in and out of GPU\n",
    "if  torch.cuda.is_available():\n",
    "    device = torch.device(\"cuda\")\n",
    "    y = torch.ones_like(x,device=device)\n",
    "    x = x.to(device)\n",
    "    z = x+y\n",
    "    print(z)\n",
    "    print(z.to(\"cpu\",torch.double))"
   ]
  },
  {
   "cell_type": "code",
   "execution_count": null,
   "metadata": {},
   "outputs": [],
   "source": []
  }
 ],
 "metadata": {
  "kernelspec": {
   "display_name": "Python 3",
   "language": "python",
   "name": "python3"
  },
  "language_info": {
   "codemirror_mode": {
    "name": "ipython",
    "version": 3
   },
   "file_extension": ".py",
   "mimetype": "text/x-python",
   "name": "python",
   "nbconvert_exporter": "python",
   "pygments_lexer": "ipython3",
   "version": "3.7.3"
  }
 },
 "nbformat": 4,
 "nbformat_minor": 2
}
